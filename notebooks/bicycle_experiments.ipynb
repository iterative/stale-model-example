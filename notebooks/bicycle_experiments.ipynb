{
 "cells": [
  {
   "cell_type": "markdown",
   "metadata": {},
   "source": [
    "# Bike experiment notebook"
   ]
  },
  {
   "cell_type": "markdown",
   "metadata": {},
   "source": [
    "## Install packages"
   ]
  },
  {
   "cell_type": "code",
   "execution_count": null,
   "metadata": {},
   "outputs": [],
   "source": [
    "import os\n",
    "import pickle\n",
    "import sys\n",
    "\n",
    "import numpy as np\n",
    "import yaml\n",
    "from sklearn.ensemble import RandomForestClassifier\n",
    "import sklearn.metrics as metrics"
   ]
  },
  {
   "cell_type": "markdown",
   "metadata": {},
   "source": [
    "## Get params"
   ]
  },
  {
   "cell_type": "code",
   "execution_count": null,
   "metadata": {},
   "outputs": [],
   "source": [
    "print(\"Works\")\n",
    "\n",
    "params = yaml.safe_load(open(\"params.yaml\"))[\"train\"]\n",
    "\n",
    "input = \"./data/\"\n",
    "output = \"./models/model.pkl\"\n",
    "\n",
    "seed = params[\"seed\"]\n",
    "n_est = params[\"n_est\"]\n",
    "min_split = params[\"min_split\"]"
   ]
  },
  {
   "cell_type": "markdown",
   "metadata": {},
   "source": [
    "## Load training data"
   ]
  },
  {
   "cell_type": "code",
   "execution_count": null,
   "metadata": {},
   "outputs": [],
   "source": [
    "with open(os.path.join(input, \"train.pkl\"), \"rb\") as fd:\n",
    "    matrix = pickle.load(fd)\n",
    "\n",
    "labels = matrix.iloc[:, 11].values\n",
    "x = matrix.iloc[:,1:11].values"
   ]
  },
  {
   "cell_type": "markdown",
   "metadata": {},
   "source": [
    "## Train model"
   ]
  },
  {
   "cell_type": "code",
   "execution_count": null,
   "metadata": {},
   "outputs": [],
   "source": [
    "clf = RandomForestClassifier(\n",
    "    n_estimators=n_est, min_samples_split=min_split, n_jobs=2, random_state=seed\n",
    ")\n",
    "\n",
    "clf.fit(x, labels)"
   ]
  },
  {
   "cell_type": "markdown",
   "metadata": {},
   "source": [
    "## Save model"
   ]
  },
  {
   "cell_type": "code",
   "execution_count": null,
   "metadata": {},
   "outputs": [],
   "source": [
    "with open(output, \"wb\") as fd:\n",
    "    pickle.dump(clf, fd)"
   ]
  },
  {
   "cell_type": "markdown",
   "metadata": {},
   "source": [
    "## Set test variables"
   ]
  },
  {
   "cell_type": "code",
   "execution_count": null,
   "metadata": {},
   "outputs": [],
   "source": [
    "model_file = \"./models/model.pkl\"\n",
    "test_file = os.path.join(\"./data\", \"test.pkl\")\n",
    "\n",
    "scores_file = \"scores.json\"\n",
    "prc_file = \"prc.json\"\n",
    "roc_file = \"roc.json\""
   ]
  },
  {
   "cell_type": "markdown",
   "metadata": {},
   "source": [
    "## Load model and test data"
   ]
  },
  {
   "cell_type": "code",
   "execution_count": null,
   "metadata": {},
   "outputs": [],
   "source": [
    "with open(model_file, \"rb\") as fd:\n",
    "    model = pickle.load(fd)\n",
    "\n",
    "with open(test_file, \"rb\") as fd:\n",
    "    matrix = pickle.load(fd)"
   ]
  },
  {
   "cell_type": "markdown",
   "metadata": {},
   "source": [
    "## Get model predictions"
   ]
  },
  {
   "cell_type": "code",
   "execution_count": null,
   "metadata": {},
   "outputs": [],
   "source": [
    "x = matrix.iloc[:,1:11].values\n",
    "\n",
    "cleaned_x = np.where(np.isnan(x), 0, x)\n",
    "labels_pred = model.predict(cleaned_x)\n",
    "\n",
    "predictions_by_class = model.predict_proba(cleaned_x)\n",
    "predictions = predictions_by_class[:, 1]"
   ]
  },
  {
   "cell_type": "markdown",
   "metadata": {},
   "source": [
    "## Calculate model performance metrics"
   ]
  },
  {
   "cell_type": "code",
   "execution_count": null,
   "metadata": {},
   "outputs": [],
   "source": [
    "precision, recall, prc_thresholds = metrics.precision_recall_curve(labels_pred, predictions, pos_label=1)\n",
    "\n",
    "fpr, tpr, roc_thresholds = metrics.roc_curve(labels_pred, predictions, pos_label=1)\n",
    "\n",
    "avg_prec = metrics.average_precision_score(labels_pred, predictions)\n",
    "roc_auc = metrics.roc_auc_score(labels_pred, predictions)\n",
    "    \n",
    "nth_point = math.ceil(len(prc_thresholds) / 1000)\n",
    "prc_points = list(zip(precision, recall, prc_thresholds))[::nth_point]"
   ]
  },
  {
   "cell_type": "markdown",
   "metadata": {},
   "source": [
    "## Save model performance metrics"
   ]
  },
  {
   "cell_type": "code",
   "execution_count": null,
   "metadata": {},
   "outputs": [],
   "source": [
    "with open(scores_file, \"w\") as fd:\n",
    "    json.dump({\"avg_prec\": avg_prec, \"roc_auc\": roc_auc}, fd, indent=4)\n",
    "    \n",
    "with open(prc_file, \"w\") as fd:\n",
    "    json.dump(\n",
    "        {\n",
    "            \"prc\": [\n",
    "                {\"precision\": p, \"recall\": r, \"threshold\": t}\n",
    "                for p, r, t in prc_points\n",
    "            ]\n",
    "        },\n",
    "        fd,\n",
    "        indent=4,\n",
    "    )\n",
    "\n",
    "with open(roc_file, \"w\") as fd:\n",
    "    json.dump(\n",
    "        {\n",
    "            \"roc\": [\n",
    "                {\"fpr\": fp, \"tpr\": tp, \"threshold\": t}\n",
    "                for fp, tp, t in zip(fpr, tpr, roc_thresholds)\n",
    "            ]\n",
    "        },\n",
    "        fd,\n",
    "        indent=4,\n",
    "    )"
   ]
  }
 ],
 "metadata": {
  "kernelspec": {
   "display_name": "Python 3 (ipykernel)",
   "language": "python",
   "name": "python3"
  },
  "language_info": {
   "codemirror_mode": {
    "name": "ipython",
    "version": 3
   },
   "file_extension": ".py",
   "mimetype": "text/x-python",
   "name": "python",
   "nbconvert_exporter": "python",
   "pygments_lexer": "ipython3",
   "version": "3.9.10"
  },
  "metadata": {
   "interpreter": {
    "hash": "31f2aee4e71d21fbe5cf8b01ff0e069b9275f58929596ceb00d14d90e3e16cd6"
   }
  },
  "vscode": {
   "interpreter": {
    "hash": "c760f195ded0a5b41406b91aff212150a87ab9231a9ef058a99e643bb1af5f08"
   }
  }
 },
 "nbformat": 4,
 "nbformat_minor": 2
}
